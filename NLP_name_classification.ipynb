{
 "cells": [
  {
   "cell_type": "markdown",
   "metadata": {
    "id": "IeERWemNFXXt"
   },
   "source": [
    "# NLP Text Classification: classifying the origin of names using a character-level RNN\n",
    "# Author: Huygens Ravelomanana\n",
    "\n",
    "We use a rnn-based model to perform classification.\n",
    "\n",
    "1. We do text preprocessing.\n",
    "2. Use embeddings and RNNs in conjunction at the character level to perform classification.\n",
    "3. Write a function that takes as input a string, and outputs the name of the predicted class."
   ]
  },
  {
   "cell_type": "markdown",
   "metadata": {
    "id": "p8ACRK8eWxsm"
   },
   "source": [
    "# Importing libraries"
   ]
  },
  {
   "cell_type": "code",
   "execution_count": 1,
   "metadata": {
    "id": "kS9ty_yBFJSg"
   },
   "outputs": [],
   "source": [
    "%tensorflow_version 2.x\n",
    "\n",
    "%matplotlib inline\n",
    "# to store the plots within the notebook\n",
    "\n",
    "# uncomment this line below if running on google colab\n",
    "%tensorflow_version 2.x \n",
    "\n",
    "from glob import glob\n",
    "\n",
    "import re\n",
    "\n",
    "import random\n",
    "import numpy as np\n",
    "import matplotlib.pyplot as plt\n",
    "import seaborn as sns\n",
    "\n",
    "# setting seed for random in order to get reproducible results\n",
    "random.seed(1)    # python random seed\n",
    "np.random.seed(1)  # numpy random seed\n",
    "\n",
    "\n",
    "import pandas as pd\n",
    "\n",
    "from sklearn.model_selection import train_test_split\n",
    "from sklearn.preprocessing import LabelEncoder\n",
    "\n",
    "from keras.metrics import mean_squared_error, mean_absolute_error\n",
    "\n",
    "from tensorflow.keras.utils import plot_model\n",
    "\n",
    "import tensorflow.keras.backend as K\n",
    "import tensorflow as tf\n",
    "\n",
    "from keras.preprocessing.text import Tokenizer\n",
    "from tensorflow.keras.preprocessing.sequence import pad_sequences\n",
    "from tensorflow.keras.utils import to_categorical\n",
    "\n",
    "from tensorflow.keras.models import Sequential\n",
    "from tensorflow.keras.layers import (SimpleRNN, LSTM,\n",
    "                                     GRU, Conv1D, Flatten,\n",
    "                                     Dense, TimeDistributed,\n",
    "                                     Bidirectional, Embedding,\n",
    "                                     BatchNormalization,\n",
    "                                     Dropout)\n",
    "\n",
    "\n",
    "from tensorflow.keras import initializers\n",
    "from tensorflow.keras.optimizers import Adam, Nadam\n",
    "\n",
    "\n",
    "from keras.callbacks import LearningRateScheduler\n",
    "from tensorflow.keras import regularizers\n",
    "\n",
    "sns.set(style=\"whitegrid\")\n"
   ]
  },
  {
   "cell_type": "markdown",
   "metadata": {
    "id": "LwxsRNYGW7HR"
   },
   "source": [
    "# Loading data and data exploration."
   ]
  },
  {
   "cell_type": "markdown",
   "metadata": {
    "id": "FTpVdfIGXCVA"
   },
   "source": [
    "## Getting the raw data and preliminary exploration\n",
    "+ Loading the data into local directory from external sources.\n",
    "+ Exploration using linux commands."
   ]
  },
  {
   "cell_type": "code",
   "execution_count": 2,
   "metadata": {
    "colab": {
     "base_uri": "https://localhost:8080/"
    },
    "id": "7Xq18_khFcsK",
    "outputId": "93b7cae8-607f-42af-f0e1-4ae5f3e6e426"
   },
   "outputs": [
    {
     "name": "stdout",
     "output_type": "stream",
     "text": [
      "--2021-08-18 02:02:45--  https://download.pytorch.org/tutorial/data.zip\n",
      "Resolving download.pytorch.org (download.pytorch.org)... 13.226.50.24, 13.226.50.77, 13.226.50.63, ...\n",
      "Connecting to download.pytorch.org (download.pytorch.org)|13.226.50.24|:443... connected.\n",
      "HTTP request sent, awaiting response... 200 OK\n",
      "Length: 2882130 (2.7M) [application/zip]\n",
      "Saving to: ‘data.zip’\n",
      "\n",
      "data.zip            100%[===================>]   2.75M  15.8MB/s    in 0.2s    \n",
      "\n",
      "2021-08-18 02:02:46 (15.8 MB/s) - ‘data.zip’ saved [2882130/2882130]\n",
      "\n",
      "Archive:  data.zip\n",
      "   creating: data/\n",
      "  inflating: data/eng-fra.txt        \n",
      "   creating: data/names/\n",
      "  inflating: data/names/Arabic.txt   \n",
      "  inflating: data/names/Chinese.txt  \n",
      "  inflating: data/names/Czech.txt    \n",
      "  inflating: data/names/Dutch.txt    \n",
      "  inflating: data/names/English.txt  \n",
      "  inflating: data/names/French.txt   \n",
      "  inflating: data/names/German.txt   \n",
      "  inflating: data/names/Greek.txt    \n",
      "  inflating: data/names/Irish.txt    \n",
      "  inflating: data/names/Italian.txt  \n",
      "  inflating: data/names/Japanese.txt  \n",
      "  inflating: data/names/Korean.txt   \n",
      "  inflating: data/names/Polish.txt   \n",
      "  inflating: data/names/Portuguese.txt  \n",
      "  inflating: data/names/Russian.txt  \n",
      "  inflating: data/names/Scottish.txt  \n",
      "  inflating: data/names/Spanish.txt  \n",
      "  inflating: data/names/Vietnamese.txt  \n"
     ]
    }
   ],
   "source": [
    "# Download the data\n",
    "!wget https://download.pytorch.org/tutorial/data.zip\n",
    "!unzip data.zip"
   ]
  },
  {
   "cell_type": "code",
   "execution_count": 3,
   "metadata": {
    "colab": {
     "base_uri": "https://localhost:8080/"
    },
    "id": "jvWaOfK-Y2cU",
    "outputId": "d40d5449-69c1-4d3a-d3d7-7277637e3094"
   },
   "outputs": [
    {
     "name": "stdout",
     "output_type": "stream",
     "text": [
      "data  data.zip\tsample_data\n"
     ]
    }
   ],
   "source": [
    "# listing files and folder in current directory\n",
    "!ls"
   ]
  },
  {
   "cell_type": "code",
   "execution_count": 4,
   "metadata": {
    "colab": {
     "base_uri": "https://localhost:8080/"
    },
    "id": "WyvSdKfBY2mS",
    "outputId": "167ef1d3-56a2-4add-c291-5afaf276581a"
   },
   "outputs": [
    {
     "name": "stdout",
     "output_type": "stream",
     "text": [
      "Reading package lists... Done\n",
      "Building dependency tree       \n",
      "Reading state information... Done\n",
      "The following package was automatically installed and is no longer required:\n",
      "  libnvidia-common-460\n",
      "Use 'apt autoremove' to remove it.\n",
      "The following NEW packages will be installed:\n",
      "  tree\n",
      "0 upgraded, 1 newly installed, 0 to remove and 40 not upgraded.\n",
      "Need to get 40.7 kB of archives.\n",
      "After this operation, 105 kB of additional disk space will be used.\n",
      "Get:1 http://archive.ubuntu.com/ubuntu bionic/universe amd64 tree amd64 1.7.0-5 [40.7 kB]\n",
      "Fetched 40.7 kB in 0s (116 kB/s)\n",
      "Selecting previously unselected package tree.\n",
      "(Reading database ... 148486 files and directories currently installed.)\n",
      "Preparing to unpack .../tree_1.7.0-5_amd64.deb ...\n",
      "Unpacking tree (1.7.0-5) ...\n",
      "Setting up tree (1.7.0-5) ...\n",
      "Processing triggers for man-db (2.8.3-2ubuntu0.1) ...\n"
     ]
    }
   ],
   "source": [
    "# install tree to view directories and files tree\n",
    "!apt install tree"
   ]
  },
  {
   "cell_type": "code",
   "execution_count": 5,
   "metadata": {
    "colab": {
     "base_uri": "https://localhost:8080/"
    },
    "id": "l0x0FMWzaP8R",
    "outputId": "cbeb1b32-8bf5-4b37-fb9a-052902781a44"
   },
   "outputs": [
    {
     "name": "stdout",
     "output_type": "stream",
     "text": [
      ".\n",
      "├── data\n",
      "│   ├── eng-fra.txt\n",
      "│   └── names\n",
      "│       ├── Arabic.txt\n",
      "│       ├── Chinese.txt\n",
      "│       ├── Czech.txt\n",
      "│       ├── Dutch.txt\n",
      "│       ├── English.txt\n",
      "│       ├── French.txt\n",
      "│       ├── German.txt\n",
      "│       ├── Greek.txt\n",
      "│       ├── Irish.txt\n",
      "│       ├── Italian.txt\n",
      "│       ├── Japanese.txt\n",
      "│       ├── Korean.txt\n",
      "│       ├── Polish.txt\n",
      "│       ├── Portuguese.txt\n",
      "│       ├── Russian.txt\n",
      "│       ├── Scottish.txt\n",
      "│       ├── Spanish.txt\n",
      "│       └── Vietnamese.txt\n",
      "├── data.zip\n",
      "└── sample_data\n",
      "    ├── anscombe.json\n",
      "    ├── california_housing_test.csv\n",
      "    ├── california_housing_train.csv\n",
      "    ├── mnist_test.csv\n",
      "    ├── mnist_train_small.csv\n",
      "    └── README.md\n",
      "\n",
      "3 directories, 26 files\n"
     ]
    }
   ],
   "source": [
    "!tree"
   ]
  },
  {
   "cell_type": "code",
   "execution_count": 6,
   "metadata": {
    "colab": {
     "base_uri": "https://localhost:8080/"
    },
    "id": "VvWfqYoKbqfc",
    "outputId": "c304b1d6-ab5b-4f5f-edab-8ab3798d5e94"
   },
   "outputs": [
    {
     "name": "stdout",
     "output_type": "stream",
     "text": [
      "18\n"
     ]
    }
   ],
   "source": [
    "# counting the number of files in names\n",
    "!ls data/names/ | wc -l"
   ]
  },
  {
   "cell_type": "code",
   "execution_count": 7,
   "metadata": {
    "colab": {
     "base_uri": "https://localhost:8080/"
    },
    "id": "S8PWZ3fOcU2Z",
    "outputId": "371e6bd7-70a4-4c55-a382-ff9e41956bf9"
   },
   "outputs": [
    {
     "name": "stdout",
     "output_type": "stream",
     "text": [
      "Nguyen\n",
      "Tron\n",
      "Le\n",
      "Pham\n",
      "Huynh\n",
      "Hoang\n",
      "Phan\n",
      "Vu\n",
      "Vo\n",
      "Dang\n",
      "Bui\n",
      "Do\n",
      "Ho\n",
      "Ngo\n",
      "Duong\n",
      "Ly\n",
      "An\n",
      "an\n",
      "Bach\n",
      "Banh\n",
      "Cao\n",
      "Chau\n",
      "Chu\n",
      "Chung\n",
      "Chu\n",
      "Diep\n",
      "Doan\n",
      "Dam\n",
      "Dao\n",
      "Dinh\n"
     ]
    }
   ],
   "source": [
    "# looking at Vietnamese names.\n",
    "!head --lines=30 data/names/Vietnamese.txt"
   ]
  },
  {
   "cell_type": "code",
   "execution_count": 8,
   "metadata": {
    "colab": {
     "base_uri": "https://localhost:8080/"
    },
    "id": "lPCiqGQ0cZNn",
    "outputId": "2abba310-0f42-472c-c7b4-accf13e2bf18"
   },
   "outputs": [
    {
     "name": "stdout",
     "output_type": "stream",
     "text": [
      "Abbas\n",
      "Abbey\n",
      "Abbott\n",
      "Abdi\n",
      "Abel\n",
      "Abraham\n",
      "Abrahams\n",
      "Abrams\n",
      "Ackary\n",
      "Ackroyd\n",
      "Acton\n",
      "Adair\n",
      "Adam\n",
      "Adams\n",
      "Adamson\n",
      "Adanet\n",
      "Addams\n",
      "Adderley\n",
      "Addinall\n",
      "Addis\n",
      "Addison\n",
      "Addley\n",
      "Aderson\n",
      "Adey\n",
      "Adkins\n",
      "Adlam\n",
      "Adler\n",
      "Adrol\n",
      "Adsett\n",
      "Agar\n"
     ]
    }
   ],
   "source": [
    "# looking at some English name\n",
    "!head --lines=30 data/names/English.txt"
   ]
  },
  {
   "cell_type": "code",
   "execution_count": 9,
   "metadata": {
    "colab": {
     "base_uri": "https://localhost:8080/"
    },
    "id": "q9upspJYgP5e",
    "outputId": "2082f238-1f9b-4a46-8183-46385a95a28f"
   },
   "outputs": [
    {
     "name": "stdout",
     "output_type": "stream",
     "text": [
      "Ababko\n",
      "Abaev\n",
      "Abagyan\n",
      "Abaidulin\n",
      "Abaidullin\n",
      "Abaimoff\n",
      "Abaimov\n",
      "Abakeliya\n",
      "Abakovsky\n",
      "Abakshin\n",
      "Abakumoff\n",
      "Abakumov\n",
      "Abakumtsev\n",
      "Abakushin\n",
      "Abalakin\n",
      "Abalakoff\n",
      "Abalakov\n",
      "Abaleshev\n",
      "Abalihin\n",
      "Abalikhin\n",
      "Abalkin\n",
      "Abalmasoff\n",
      "Abalmasov\n",
      "Abaloff\n",
      "Abalov\n",
      "Abamelek\n",
      "Abanin\n",
      "Abankin\n",
      "Abarinoff\n",
      "Abarinov\n"
     ]
    }
   ],
   "source": [
    "# looking at some English name\n",
    "!head --lines=30 data/names/Russian.txt"
   ]
  },
  {
   "cell_type": "code",
   "execution_count": 10,
   "metadata": {
    "colab": {
     "base_uri": "https://localhost:8080/"
    },
    "id": "MM8Sim8vcU5H",
    "outputId": "c0eae647-49d8-4140-f36f-342616c97fb3"
   },
   "outputs": [
    {
     "name": "stdout",
     "output_type": "stream",
     "text": [
      "3668\n"
     ]
    }
   ],
   "source": [
    "# counting the number of names in English\n",
    "!wc -l < data/names/English.txt"
   ]
  },
  {
   "cell_type": "code",
   "execution_count": 11,
   "metadata": {
    "colab": {
     "base_uri": "https://localhost:8080/"
    },
    "id": "2TiHhkJAdiSm",
    "outputId": "53071a19-567b-49f1-eb65-9c7ad9867c51"
   },
   "outputs": [
    {
     "name": "stdout",
     "output_type": "stream",
     "text": [
      "73\n"
     ]
    }
   ],
   "source": [
    " # counting the number of names in Vietnamese\n",
    " !wc -l < data/names/Vietnamese.txt"
   ]
  },
  {
   "cell_type": "code",
   "execution_count": 12,
   "metadata": {
    "colab": {
     "base_uri": "https://localhost:8080/"
    },
    "id": "jD6yWfOH-HCa",
    "outputId": "7df6acc3-4aa3-4720-829d-2da249d11559"
   },
   "outputs": [
    {
     "name": "stdout",
     "output_type": "stream",
     "text": [
      "9408\n"
     ]
    }
   ],
   "source": [
    "# counting the number of names in Russian\n",
    "!wc -l < data/names/Russian.txt"
   ]
  },
  {
   "cell_type": "code",
   "execution_count": 13,
   "metadata": {
    "colab": {
     "base_uri": "https://localhost:8080/"
    },
    "id": "aDifRaslUmc8",
    "outputId": "66331c0e-c572-4319-976e-885e6316292c"
   },
   "outputs": [
    {
     "name": "stdout",
     "output_type": "stream",
     "text": [
      "277\n"
     ]
    }
   ],
   "source": [
    "# counting the number of names in French\n",
    "!wc -l < data/names/French.txt"
   ]
  },
  {
   "cell_type": "code",
   "execution_count": 14,
   "metadata": {
    "colab": {
     "base_uri": "https://localhost:8080/"
    },
    "id": "P3rGVrKxAy47",
    "outputId": "1807b945-feb6-4095-9305-426d8c9b457a"
   },
   "outputs": [
    {
     "name": "stdout",
     "output_type": "stream",
     "text": [
      "2000\n"
     ]
    }
   ],
   "source": [
    "# counting the number of names in Arabic\n",
    "!wc -l < data/names/Arabic.txt"
   ]
  },
  {
   "cell_type": "markdown",
   "metadata": {
    "id": "G4tX2TwDa0On"
   },
   "source": [
    "**Comments**\n",
    "+ The data we need are in `~/data/names`\n",
    "+ There are 18 languages.\n",
    "+ The files for some languages contains fewer names than others.\n",
    "+ The data seems clean at first sight, no weird characters like @, %, # , & *"
   ]
  },
  {
   "cell_type": "markdown",
   "metadata": {
    "id": "1PwYDB5GQgOs"
   },
   "source": [
    "## Putting the raw data into python objects"
   ]
  },
  {
   "cell_type": "code",
   "execution_count": 15,
   "metadata": {
    "id": "AIrKQAEscU8j"
   },
   "outputs": [],
   "source": [
    "# defining a function which open a file read it content\n",
    "# and store it in a python list.\n",
    "\n",
    "def get_lines(path):\n",
    "    \"\"\" Function which reads the lines in a file whose path is \n",
    "    the input parameter path, then store the lines in a list.\n",
    "\n",
    "    Input:\n",
    "    ------\n",
    "           path (str): a path to a file.\n",
    "    \n",
    "    Output:\n",
    "    -------\n",
    "           (list): all lines from the files put in a list\n",
    "                   excluding escape sequence like \\n,\n",
    "    \"\"\"\n",
    "    # opening the file\n",
    "    myfile = open(path)\n",
    "\n",
    "    # reading the lines\n",
    "    # and putting them in a list\n",
    "    content = myfile.readlines()\n",
    "    content = map(str.strip, content)\n",
    "    content = list(content)\n",
    "\n",
    "    # closing the file\n",
    "    myfile.close()\n",
    "\n",
    "    return content"
   ]
  },
  {
   "cell_type": "code",
   "execution_count": 16,
   "metadata": {
    "id": "c8VeWda3g4Fy"
   },
   "outputs": [],
   "source": [
    "# Function that get the names and their origin as a list of\n",
    "# tuple (name, origin)\n",
    "\n",
    "def get_names_and_origin():\n",
    "    \"\"\"Function which puts the names and origin from the local\n",
    "    files into list of tuples (name, origins).\n",
    "\n",
    "    Input:\n",
    "    ------\n",
    "            None: The function just opens reads and closes all\n",
    "                  .txt files in ~/data/names/\n",
    "    Output:\n",
    "    ------\n",
    "           list: A list of tuples of the form (name, origin).\n",
    "    \"\"\"\n",
    "\n",
    "    # creating an empty list to contain the tuples (name, origin)\n",
    "    data = []\n",
    "    \n",
    "    # looping through all the .txt file of ~/data/names/\n",
    "    for filename in glob('data/names/*.txt'):\n",
    "\n",
    "        # extracting the language name\n",
    "        origin = filename.split('/')[-1].split('.txt')[0]\n",
    "\n",
    "        # getting all the names for the language origin\n",
    "        names = get_lines(filename)\n",
    "\n",
    "        # looping through names to pair each name with its language\n",
    "        for name in names:\n",
    "            data.append((name, origin))\n",
    "    \n",
    "    # shuffling the data \n",
    "    # since we do not want names with the same origin\n",
    "    # to follow one another\n",
    "    random.shuffle(data)\n",
    "    \n",
    "    return data"
   ]
  },
  {
   "cell_type": "code",
   "execution_count": 17,
   "metadata": {
    "id": "j1yDHn4ETrDw"
   },
   "outputs": [],
   "source": [
    "# creating the list of tuple (name, origin)\n",
    "names_list =  get_names_and_origin()"
   ]
  },
  {
   "cell_type": "code",
   "execution_count": 18,
   "metadata": {
    "colab": {
     "base_uri": "https://localhost:8080/"
    },
    "id": "QFFN8CSmTw1D",
    "outputId": "fff35c93-bba9-4e50-f236-c1350278b1be"
   },
   "outputs": [
    {
     "data": {
      "text/plain": [
       "[('Tsigra', 'Russian'),\n",
       " ('Pyanochenko', 'Russian'),\n",
       " ('Delaney', 'English'),\n",
       " ('Auton', 'English'),\n",
       " ('Eihvald', 'Russian'),\n",
       " ('Mifsud', 'Arabic'),\n",
       " ('Jamskov', 'Russian'),\n",
       " ('Kidner', 'English'),\n",
       " ('Lezdinysh', 'Russian'),\n",
       " ('Rosario', 'Portuguese'),\n",
       " ('Forakis', 'Greek'),\n",
       " ('Kabatsky', 'Russian'),\n",
       " ('Mordovtsev', 'Russian'),\n",
       " ('Norville', 'English'),\n",
       " ('Poulter', 'English'),\n",
       " ('Can', 'Dutch'),\n",
       " ('Imerlishvili', 'Russian'),\n",
       " ('Soler', 'Spanish'),\n",
       " ('Bianchi', 'Italian'),\n",
       " ('Herodes', 'Czech')]"
      ]
     },
     "execution_count": 18,
     "metadata": {
      "tags": []
     },
     "output_type": "execute_result"
    }
   ],
   "source": [
    "# looking at the first 20 tuples in the list\n",
    "names_list[:20]"
   ]
  },
  {
   "cell_type": "markdown",
   "metadata": {
    "id": "5ltwvR_4Uj6F"
   },
   "source": [
    "## Separating the data into train_validation data and test data"
   ]
  },
  {
   "cell_type": "code",
   "execution_count": 19,
   "metadata": {
    "id": "SFcFLDWltZnx"
   },
   "outputs": [],
   "source": [
    "names, origins = zip(*names_list)\n",
    "names_train, names_test, orig_train, orig_test = train_test_split(names,\n",
    "                                                                origins,\n",
    "                                                                test_size=0.15,\n",
    "                                                                stratify=origins, \n",
    "                                                                shuffle=True,\n",
    "                                                                random_state=1)"
   ]
  },
  {
   "cell_type": "code",
   "execution_count": 20,
   "metadata": {
    "colab": {
     "base_uri": "https://localhost:8080/"
    },
    "id": "OaPRdXKlFfCY",
    "outputId": "308d0fde-33ad-4d76-f333-95957c600371"
   },
   "outputs": [
    {
     "name": "stdout",
     "output_type": "stream",
     "text": [
      "Jarihin              Russian\n",
      "Abelman              Russian\n",
      "Sampson              English\n",
      "Yarlett              English\n",
      "Kachkov              Russian\n",
      "Rickards             English\n",
      "May                  English\n",
      "Tohill               English\n",
      "Zolotarev            Russian\n",
      "Ladyzhensky          Russian\n",
      "Jarrett              English\n",
      "Gomez                Spanish\n",
      "Veligorsky           Russian\n",
      "Morinaga             Japanese\n",
      "Pokhmelkin           Russian\n",
      "Tcharnolusky         Russian\n",
      "Eroshevsky           Russian\n",
      "Suárez               Spanish\n",
      "Antonopoulos         Greek\n",
      "Sokolowski           Polish\n"
     ]
    }
   ],
   "source": [
    "# looking at the newly created train (& validation) data\n",
    "\n",
    "for name, origin in zip(names_train[:20], orig_train[:20]):\n",
    "  print(name.ljust(20), origin)"
   ]
  },
  {
   "cell_type": "markdown",
   "metadata": {
    "id": "yTEVXqDwXLmX"
   },
   "source": [
    "# Text Preprocessing"
   ]
  },
  {
   "cell_type": "markdown",
   "metadata": {
    "id": "3yUQ11LRVFPD"
   },
   "source": [
    "## Character tokenization"
   ]
  },
  {
   "cell_type": "code",
   "execution_count": 21,
   "metadata": {
    "id": "Qq4rYx7FvOhz"
   },
   "outputs": [],
   "source": [
    "# creating and instance of Tokenizer as lower case character tokenizer\n",
    "input_tokenizer = Tokenizer(char_level=True, lower=True)\n",
    "\n",
    "# fitting the Tokenizer on all the names.\n",
    "# In theory we should fit on the train data only but we are not sure if the \n",
    "# train data contains all the possible characters.\n",
    "input_tokenizer.fit_on_texts(names)"
   ]
  },
  {
   "cell_type": "code",
   "execution_count": 22,
   "metadata": {
    "colab": {
     "base_uri": "https://localhost:8080/"
    },
    "id": "x4T87zo4vjzp",
    "outputId": "6bb581d3-c89d-4c5e-9021-a40460e344e8"
   },
   "outputs": [
    {
     "name": "stdout",
     "output_type": "stream",
     "text": [
      "Number of characters:  58\n"
     ]
    }
   ],
   "source": [
    "# setting a constant for the number of characters\n",
    "no_of_char = len(input_tokenizer.word_index)\n",
    "\n",
    "# printing the number of characters\n",
    "print(\"Number of characters: \", no_of_char)"
   ]
  },
  {
   "cell_type": "code",
   "execution_count": 23,
   "metadata": {
    "colab": {
     "base_uri": "https://localhost:8080/"
    },
    "id": "lk8kNVcHvOkk",
    "outputId": "71ee99b5-9542-4bad-a624-a0b5d914616e"
   },
   "outputs": [
    {
     "data": {
      "text/plain": [
       "{' ': 25,\n",
       " \"'\": 27,\n",
       " ',': 41,\n",
       " '-': 29,\n",
       " '/': 56,\n",
       " '1': 43,\n",
       " ':': 48,\n",
       " 'a': 1,\n",
       " 'b': 16,\n",
       " 'c': 19,\n",
       " 'd': 15,\n",
       " 'e': 3,\n",
       " 'f': 21,\n",
       " 'g': 18,\n",
       " 'h': 8,\n",
       " 'i': 4,\n",
       " 'j': 23,\n",
       " 'k': 9,\n",
       " 'l': 10,\n",
       " 'm': 14,\n",
       " 'n': 5,\n",
       " 'o': 2,\n",
       " 'p': 22,\n",
       " 'q': 26,\n",
       " 'r': 6,\n",
       " 's': 7,\n",
       " 't': 12,\n",
       " 'u': 13,\n",
       " 'v': 11,\n",
       " 'w': 24,\n",
       " 'x': 28,\n",
       " 'y': 17,\n",
       " 'z': 20,\n",
       " '\\xa0': 55,\n",
       " 'ß': 38,\n",
       " 'à': 37,\n",
       " 'á': 35,\n",
       " 'ã': 46,\n",
       " 'ä': 33,\n",
       " 'ç': 54,\n",
       " 'è': 45,\n",
       " 'é': 31,\n",
       " 'ê': 50,\n",
       " 'ì': 49,\n",
       " 'í': 32,\n",
       " 'ñ': 40,\n",
       " 'ò': 42,\n",
       " 'ó': 34,\n",
       " 'õ': 51,\n",
       " 'ö': 30,\n",
       " 'ù': 58,\n",
       " 'ú': 39,\n",
       " 'ü': 36,\n",
       " 'ą': 57,\n",
       " 'ł': 53,\n",
       " 'ń': 52,\n",
       " 'ś': 44,\n",
       " 'ż': 47}"
      ]
     },
     "execution_count": 23,
     "metadata": {
      "tags": []
     },
     "output_type": "execute_result"
    }
   ],
   "source": [
    "# Looking at all unique characters in the whole data\n",
    "input_tokenizer.word_index"
   ]
  },
  {
   "cell_type": "code",
   "execution_count": 24,
   "metadata": {
    "colab": {
     "base_uri": "https://localhost:8080/"
    },
    "id": "BqG1x-jbvOon",
    "outputId": "cb8d15db-26fc-4aa6-df33-a3969c8bc21f"
   },
   "outputs": [
    {
     "data": {
      "text/plain": [
       "OrderedDict([('t', 5956),\n",
       "             ('s', 7985),\n",
       "             ('i', 10422),\n",
       "             ('g', 3217),\n",
       "             ('r', 8262),\n",
       "             ('a', 16516),\n",
       "             ('p', 1711),\n",
       "             ('y', 3619),\n",
       "             ('n', 9961),\n",
       "             ('o', 11106),\n",
       "             ('c', 3070),\n",
       "             ('h', 7688),\n",
       "             ('e', 10764),\n",
       "             ('k', 6922),\n",
       "             ('d', 3899),\n",
       "             ('l', 6713),\n",
       "             ('u', 4720),\n",
       "             ('v', 6315),\n",
       "             ('m', 4351),\n",
       "             ('f', 1778),\n",
       "             ('j', 1351),\n",
       "             ('z', 1932),\n",
       "             ('b', 3657),\n",
       "             ('w', 1127),\n",
       "             ('x', 73),\n",
       "             ('q', 98),\n",
       "             (\"'\", 87),\n",
       "             ('ä', 13),\n",
       "             ('ö', 24),\n",
       "             ('í', 14),\n",
       "             (' ', 115),\n",
       "             ('é', 23),\n",
       "             ('-', 25),\n",
       "             ('ó', 13),\n",
       "             (',', 3),\n",
       "             ('ß', 9),\n",
       "             ('ò', 3),\n",
       "             (':', 1),\n",
       "             ('á', 13),\n",
       "             ('1', 3),\n",
       "             ('à', 10),\n",
       "             ('ú', 7),\n",
       "             ('è', 2),\n",
       "             ('ì', 1),\n",
       "             ('ê', 1),\n",
       "             ('ã', 2),\n",
       "             ('ü', 11),\n",
       "             ('õ', 1),\n",
       "             ('ñ', 6),\n",
       "             ('ś', 3),\n",
       "             ('ń', 1),\n",
       "             ('ł', 1),\n",
       "             ('ç', 1),\n",
       "             ('\\xa0', 1),\n",
       "             ('ż', 2),\n",
       "             ('/', 1),\n",
       "             ('ą', 1),\n",
       "             ('ù', 1)])"
      ]
     },
     "execution_count": 24,
     "metadata": {
      "tags": []
     },
     "output_type": "execute_result"
    }
   ],
   "source": [
    "# looking at the count for each of the characters\n",
    "input_tokenizer.word_counts"
   ]
  },
  {
   "cell_type": "code",
   "execution_count": 25,
   "metadata": {
    "colab": {
     "base_uri": "https://localhost:8080/"
    },
    "id": "zU7FdOkwwu5r",
    "outputId": "391a76ff-f5b3-45ee-803a-3a57a2dc462d"
   },
   "outputs": [
    {
     "data": {
      "text/plain": [
       "20074"
      ]
     },
     "execution_count": 25,
     "metadata": {
      "tags": []
     },
     "output_type": "execute_result"
    }
   ],
   "source": [
    "# listing the number of names\n",
    "input_tokenizer.document_count"
   ]
  },
  {
   "cell_type": "code",
   "execution_count": 26,
   "metadata": {
    "id": "0oOKcH0EggmX"
   },
   "outputs": [],
   "source": [
    "# creating numerical tokens for the sake of exploration\n",
    "token_list = input_tokenizer.texts_to_sequences(names)"
   ]
  },
  {
   "cell_type": "code",
   "execution_count": 27,
   "metadata": {
    "colab": {
     "base_uri": "https://localhost:8080/"
    },
    "id": "Ql2JGlRnghRD",
    "outputId": "76e79c0e-7352-4d6d-8a11-69b49c871680"
   },
   "outputs": [
    {
     "data": {
      "text/plain": [
       "[[12, 7, 4, 18, 6, 1],\n",
       " [22, 17, 1, 5, 2, 19, 8, 3, 5, 9, 2],\n",
       " [15, 3, 10, 1, 5, 3, 17],\n",
       " [1, 13, 12, 2, 5],\n",
       " [3, 4, 8, 11, 1, 10, 15],\n",
       " [14, 4, 21, 7, 13, 15],\n",
       " [23, 1, 14, 7, 9, 2, 11],\n",
       " [9, 4, 15, 5, 3, 6],\n",
       " [10, 3, 20, 15, 4, 5, 17, 7, 8],\n",
       " [6, 2, 7, 1, 6, 4, 2]]"
      ]
     },
     "execution_count": 27,
     "metadata": {
      "tags": []
     },
     "output_type": "execute_result"
    }
   ],
   "source": [
    "# looking at the first 10 samples\n",
    "token_list[:10]"
   ]
  },
  {
   "cell_type": "code",
   "execution_count": 28,
   "metadata": {
    "colab": {
     "base_uri": "https://localhost:8080/"
    },
    "id": "P45zT7CsghUw",
    "outputId": "9c09e7af-e667-474a-99e0-28cc3328519c"
   },
   "outputs": [
    {
     "data": {
      "text/plain": [
       "[[22, 1, 20, 13, 8, 4, 5],\n",
       " [6, 13, 15, 1, 7, 9, 4],\n",
       " [5, 2, 6, 14, 4, 5, 18, 12, 2, 5],\n",
       " [23, 3, 6, 2, 14, 3],\n",
       " [12, 3, 14, 22, 3, 7, 12],\n",
       " [18, 6, 2, 7, 7, 8, 2, 22, 21],\n",
       " [12, 13, 6, 4, 17, 1, 5, 7, 9, 17],\n",
       " [16, 1, 7, 12, 4, 1, 5],\n",
       " [12, 2, 13, 14, 1],\n",
       " [8, 2, 14, 4, 19, 8, 3, 5, 9, 2]]"
      ]
     },
     "execution_count": 28,
     "metadata": {
      "tags": []
     },
     "output_type": "execute_result"
    }
   ],
   "source": [
    "# looking at the last 10 samples\n",
    "token_list[-10:]"
   ]
  },
  {
   "cell_type": "code",
   "execution_count": 28,
   "metadata": {
    "id": "t1V05QR5ghXf"
   },
   "outputs": [],
   "source": []
  },
  {
   "cell_type": "markdown",
   "metadata": {
    "id": "jbLXpb69XuvU"
   },
   "source": [
    "## Features Vectorization\n",
    "We are going to vectorize the train & validation and the test data"
   ]
  },
  {
   "cell_type": "code",
   "execution_count": 29,
   "metadata": {
    "colab": {
     "base_uri": "https://localhost:8080/"
    },
    "id": "0x_MxmPDYKqX",
    "outputId": "c7c6d9f1-fbaf-4f2a-9249-c2e4310b9c4a"
   },
   "outputs": [
    {
     "name": "stdout",
     "output_type": "stream",
     "text": [
      "Number of characters for the longest name:  20\n"
     ]
    }
   ],
   "source": [
    "#getting the length of the longest word/name\n",
    "max_name_length =  max([len(x) for x in token_list])\n",
    "\n",
    "# printing the length of the longest word\n",
    "print(\"Number of characters for the longest name: \",\n",
    "      max_name_length)"
   ]
  },
  {
   "cell_type": "code",
   "execution_count": 30,
   "metadata": {
    "id": "3Fbla2L1YZtS"
   },
   "outputs": [],
   "source": [
    "\n",
    "def vectorize_features(our_list):\n",
    "    \"\"\"\n",
    "    Function converting all the tokens in the input our_list\n",
    "    into sequence of numbers, then padding the result,\n",
    "    making them the same length as the longest word by\n",
    "    adding zeroes to fill the gap. Finally it convert the\n",
    "    result into a numpy.array and returns it\n",
    "\n",
    "    Input:\n",
    "    -----\n",
    "        our_list  (list): a list of characters tokens.\n",
    "\n",
    "    Ouput:\n",
    "    -----\n",
    "        numpy.array: shape= (number of samples, max_name_length)\n",
    "                    the vectorized and padded data.\n",
    "    \"\"\"\n",
    "\n",
    "    # converting list of characters into list of integers \n",
    "    our_X = input_tokenizer.texts_to_sequences(our_list)\n",
    "\n",
    "    # doing the padding\n",
    "    our_X = np.array(pad_sequences(our_X,\n",
    "                                maxlen=max_name_length,\n",
    "                                padding='pre'))\n",
    "\n",
    "    return our_X"
   ]
  },
  {
   "cell_type": "code",
   "execution_count": 31,
   "metadata": {
    "id": "S-wUphsPaupb"
   },
   "outputs": [],
   "source": [
    "# vectorizing the train_validation and the test features\n",
    "X_train_val = vectorize_features(names_train)\n",
    "X_test = vectorize_features(names_test)"
   ]
  },
  {
   "cell_type": "code",
   "execution_count": 32,
   "metadata": {
    "colab": {
     "base_uri": "https://localhost:8080/"
    },
    "id": "8935gv7Bblgf",
    "outputId": "f7a3626d-6220-48aa-d971-46178d5fba05"
   },
   "outputs": [
    {
     "data": {
      "text/plain": [
       "((17062, 20), (3012, 20))"
      ]
     },
     "execution_count": 32,
     "metadata": {
      "tags": []
     },
     "output_type": "execute_result"
    }
   ],
   "source": [
    "# looking at the shape\n",
    "X_train_val.shape, X_test.shape"
   ]
  },
  {
   "cell_type": "code",
   "execution_count": 33,
   "metadata": {
    "colab": {
     "base_uri": "https://localhost:8080/"
    },
    "id": "MMpT4K8PxCdo",
    "outputId": "6fe6cb39-ca79-4448-99b1-dbc12baab07d"
   },
   "outputs": [
    {
     "data": {
      "text/plain": [
       "array([[ 0,  0,  0,  0,  0,  0,  0,  0,  0,  0,  0,  0,  0, 23,  1,  6,\n",
       "         4,  8,  4,  5],\n",
       "       [ 0,  0,  0,  0,  0,  0,  0,  0,  0,  0,  0,  0,  0,  1, 16,  3,\n",
       "        10, 14,  1,  5],\n",
       "       [ 0,  0,  0,  0,  0,  0,  0,  0,  0,  0,  0,  0,  0,  7,  1, 14,\n",
       "        22,  7,  2,  5],\n",
       "       [ 0,  0,  0,  0,  0,  0,  0,  0,  0,  0,  0,  0,  0, 17,  1,  6,\n",
       "        10,  3, 12, 12],\n",
       "       [ 0,  0,  0,  0,  0,  0,  0,  0,  0,  0,  0,  0,  0,  9,  1, 19,\n",
       "         8,  9,  2, 11],\n",
       "       [ 0,  0,  0,  0,  0,  0,  0,  0,  0,  0,  0,  0,  6,  4, 19,  9,\n",
       "         1,  6, 15,  7],\n",
       "       [ 0,  0,  0,  0,  0,  0,  0,  0,  0,  0,  0,  0,  0,  0,  0,  0,\n",
       "         0, 14,  1, 17],\n",
       "       [ 0,  0,  0,  0,  0,  0,  0,  0,  0,  0,  0,  0,  0,  0, 12,  2,\n",
       "         8,  4, 10, 10],\n",
       "       [ 0,  0,  0,  0,  0,  0,  0,  0,  0,  0,  0, 20,  2, 10,  2, 12,\n",
       "         1,  6,  3, 11],\n",
       "       [ 0,  0,  0,  0,  0,  0,  0,  0,  0, 10,  1, 15, 17, 20,  8,  3,\n",
       "         5,  7,  9, 17]], dtype=int32)"
      ]
     },
     "execution_count": 33,
     "metadata": {
      "tags": []
     },
     "output_type": "execute_result"
    }
   ],
   "source": [
    "# looking at the first 10 samples of X_train_val\n",
    "X_train_val[:10]"
   ]
  },
  {
   "cell_type": "code",
   "execution_count": 34,
   "metadata": {
    "colab": {
     "base_uri": "https://localhost:8080/"
    },
    "id": "SCeTpboMxChU",
    "outputId": "16a3951a-8bc1-444d-8d9f-e8018a3924bb"
   },
   "outputs": [
    {
     "data": {
      "text/plain": [
       "array([[ 0,  0,  0,  0,  0,  0,  0,  0,  0,  0,  0,  0,  0,  0, 15,  2,\n",
       "         5,  9,  4,  5],\n",
       "       [ 0,  0,  0,  0,  0,  0,  0,  0,  0,  0,  0,  5,  4,  7,  8,  4,\n",
       "        14, 13,  6,  1],\n",
       "       [ 0,  0,  0,  0,  0,  0,  0,  0,  0,  0,  0,  0,  0,  0,  3, 14,\n",
       "        12,  7,  2, 11],\n",
       "       [ 0,  0,  0,  0,  0,  0,  0,  0,  0,  0,  0,  0,  0,  0,  0,  0,\n",
       "         0, 17, 13,  3],\n",
       "       [ 0,  0,  0,  0,  0,  0,  0,  0,  0,  0,  0, 19,  1, 10, 10,  1,\n",
       "        18,  8,  1,  5],\n",
       "       [ 0,  0,  0,  0,  0,  0,  0,  0,  0,  0,  0, 14, 13, 20,  1, 21,\n",
       "         1,  6,  2, 11],\n",
       "       [ 0,  0,  0,  0,  0,  0,  0,  0,  0,  0,  0,  0,  0,  0, 18,  1,\n",
       "        14, 14,  3,  6],\n",
       "       [ 0,  0,  0,  0,  0,  0,  0,  0,  0,  0,  0,  0,  0, 14, 13,  7,\n",
       "        12,  1, 21,  1],\n",
       "       [ 0,  0,  0,  0,  0,  0,  0,  0,  0,  0,  0,  0,  0,  0, 16,  1,\n",
       "         7,  1,  6,  1],\n",
       "       [ 0,  0,  0,  0,  0,  0,  0,  0,  0,  0, 11,  4, 10, 10,  1, 10,\n",
       "         2, 16,  2,  7]], dtype=int32)"
      ]
     },
     "execution_count": 34,
     "metadata": {
      "tags": []
     },
     "output_type": "execute_result"
    }
   ],
   "source": [
    "# looking at the last 10 samples\n",
    "X_train_val[-10:]"
   ]
  },
  {
   "cell_type": "code",
   "execution_count": 35,
   "metadata": {
    "id": "aIAbNz1VxClg"
   },
   "outputs": [],
   "source": [
    "# checking if indeed all the element in the data have the same length.\n",
    "#np.array([len(x)==max_name_length for x in token_list]).all()"
   ]
  },
  {
   "cell_type": "markdown",
   "metadata": {
    "id": "tjd8HR-WcIGA"
   },
   "source": [
    "## Categorizing the labels / Targets"
   ]
  },
  {
   "cell_type": "code",
   "execution_count": 36,
   "metadata": {
    "id": "-wq1jOZLgbin"
   },
   "outputs": [],
   "source": [
    "# creating a numpy array containing the origins for the train data\n",
    "orig_train_arr = np.array(orig_train)\n",
    "\n",
    "# create an instance of LabelEncoder to be used for convertin the\n",
    "# strings into numerical labels\n",
    "label_encoder = LabelEncoder()\n",
    "\n",
    "# fiting the LabelEncoder instance on the train origins data\n",
    "orig_train_num = label_encoder.fit_transform(orig_train_arr)\n",
    "\n",
    "# fiting the LabelEncoder instance on the train origins data\n",
    "orig_test_num = label_encoder.fit_transform(orig_test)\n"
   ]
  },
  {
   "cell_type": "code",
   "execution_count": 37,
   "metadata": {
    "colab": {
     "base_uri": "https://localhost:8080/"
    },
    "id": "Mmp73Ydgu66v",
    "outputId": "572f5dbc-1fc6-4477-9009-ae719794ac70"
   },
   "outputs": [
    {
     "data": {
      "text/plain": [
       "array(['Arabic', 'Chinese', 'Czech', 'Dutch', 'English', 'French',\n",
       "       'German', 'Greek', 'Irish', 'Italian', 'Japanese', 'Korean',\n",
       "       'Polish', 'Portuguese', 'Russian', 'Scottish', 'Spanish',\n",
       "       'Vietnamese'], dtype='<U10')"
      ]
     },
     "execution_count": 37,
     "metadata": {
      "tags": []
     },
     "output_type": "execute_result"
    }
   ],
   "source": [
    "# looking at the classes seeing if it contains all of them.\n",
    "label_encoder.classes_"
   ]
  },
  {
   "cell_type": "code",
   "execution_count": 38,
   "metadata": {
    "colab": {
     "base_uri": "https://localhost:8080/"
    },
    "id": "6nRsGU4OvBTo",
    "outputId": "9fe0deae-028b-43cf-8fed-ab40060a3ac9"
   },
   "outputs": [
    {
     "data": {
      "text/plain": [
       "array(['Arabic', 'Chinese', 'Czech', 'Dutch', 'English', 'French',\n",
       "       'German', 'Greek', 'Irish', 'Italian', 'Japanese', 'Korean',\n",
       "       'Polish', 'Portuguese', 'Russian', 'Scottish', 'Spanish',\n",
       "       'Vietnamese'], dtype='<U10')"
      ]
     },
     "execution_count": 38,
     "metadata": {
      "tags": []
     },
     "output_type": "execute_result"
    }
   ],
   "source": [
    "# checking inverse_transform\n",
    "label_encoder.inverse_transform(list(range(18)))"
   ]
  },
  {
   "cell_type": "code",
   "execution_count": 39,
   "metadata": {
    "colab": {
     "base_uri": "https://localhost:8080/"
    },
    "id": "mI0CmJQaa9Qo",
    "outputId": "fb43b5f5-4b10-484d-cc53-4694f74fdc10"
   },
   "outputs": [
    {
     "data": {
      "text/plain": [
       "((17062, 18), (3012, 18))"
      ]
     },
     "execution_count": 39,
     "metadata": {
      "tags": []
     },
     "output_type": "execute_result"
    }
   ],
   "source": [
    "# creating the a train and validation target / label as \n",
    "# a hot-encoded  vectors\n",
    "y_train_val = to_categorical(orig_train_num)\n",
    "\n",
    "# doing the same for the test data\n",
    "y_test = to_categorical(orig_test_num)\n",
    " \n",
    "# checking the shape of the result\n",
    "y_train_val.shape,  y_test.shape"
   ]
  },
  {
   "cell_type": "code",
   "execution_count": 40,
   "metadata": {
    "colab": {
     "base_uri": "https://localhost:8080/"
    },
    "id": "SwMwsya9hM0_",
    "outputId": "2a10474f-5524-4635-bc06-ef353a224420"
   },
   "outputs": [
    {
     "data": {
      "text/plain": [
       "array([[0., 0., 0., 0., 0., 0., 0., 0., 0., 0., 0., 0., 0., 0., 1., 0.,\n",
       "        0., 0.],\n",
       "       [0., 0., 0., 0., 0., 0., 0., 0., 0., 0., 0., 0., 0., 0., 1., 0.,\n",
       "        0., 0.],\n",
       "       [0., 0., 0., 0., 1., 0., 0., 0., 0., 0., 0., 0., 0., 0., 0., 0.,\n",
       "        0., 0.]], dtype=float32)"
      ]
     },
     "execution_count": 40,
     "metadata": {
      "tags": []
     },
     "output_type": "execute_result"
    }
   ],
   "source": [
    "# looking at the first 3 samples\n",
    "y_train_val[:3]"
   ]
  },
  {
   "cell_type": "markdown",
   "metadata": {
    "id": "TEd_3LupdfLs"
   },
   "source": [
    "# Separating the train and validation data\n",
    "+ We do this to avoid the randomness in validation_split. We use a predefine fixed validation data."
   ]
  },
  {
   "cell_type": "code",
   "execution_count": 41,
   "metadata": {
    "id": "twjxB1plrCNN"
   },
   "outputs": [],
   "source": [
    "\n",
    "X_train, X_val, y_train, y_val = train_test_split(X_train_val,\n",
    "                                                   y_train_val,\n",
    "                                                   test_size=0.15,\n",
    "                                                   stratify=y_train_val,\n",
    "                                                   shuffle=True,\n",
    "                                                   random_state=1)"
   ]
  },
  {
   "cell_type": "markdown",
   "metadata": {
    "id": "6W31UdIleH60"
   },
   "source": [
    "# Modeling Training and Testing"
   ]
  },
  {
   "cell_type": "markdown",
   "metadata": {
    "id": "BGtZTmJOeTX4"
   },
   "source": [
    "## Utility functions"
   ]
  },
  {
   "cell_type": "code",
   "execution_count": 42,
   "metadata": {
    "id": "4shHDc0w240o"
   },
   "outputs": [],
   "source": [
    "# Creating a function which plots loss or accuracy curve\n",
    "def plot_train_val_curves(history):\n",
    "    \"\"\"Function plotting the train and validation loss and accuracy curves\n",
    "    INPUT:\n",
    "    -----   \n",
    "            history (tensorflow.python.keras.callbacks.History):\n",
    "                     output of the .fit() method of a keras Model instance\n",
    "    OUTPUT:\n",
    "    ------\n",
    "            None (it shows some plots)\n",
    "    \"\"\"\n",
    "\n",
    "    # creating figure and axis for the plot\n",
    "    fig, axes = plt.subplots(1,2, figsize=(20,8))\n",
    "\n",
    "    # train and validation loss plot\n",
    "    axes[0].plot(history.history['loss'])\n",
    "    axes[0].plot(history.history['val_loss'])\n",
    "    axes[0].set_title('Model Loss Progress During Training', fontsize=15)\n",
    "    axes[0].set_ylabel('Training and Validation Loss', fontsize=12)\n",
    "    axes[0].set_xlabel('Epoch number', fontsize=12)\n",
    "    axes[0].legend(['Training Loss', 'Validation Loss'], fontsize=12)\n",
    "\n",
    "    # train and validation accuracy plot\n",
    "    axes[1].plot(history.history['accuracy'])\n",
    "    axes[1].plot(history.history['val_accuracy'])\n",
    "    axes[1].set_title('Model accuracy Progress During Training', fontsize=15)\n",
    "    axes[1].set_ylabel('Training and Validation accuracy', fontsize=12)\n",
    "    axes[1].set_xlabel('Epoch number', fontsize=12)\n",
    "    axes[1].legend(['Training accuracy', 'Validation accuracy'], fontsize=12)\n",
    "\n",
    "    plt.show()\n",
    "\n"
   ]
  },
  {
   "cell_type": "code",
   "execution_count": 42,
   "metadata": {
    "id": "uw0XbxdVeR7s"
   },
   "outputs": [],
   "source": []
  },
  {
   "cell_type": "markdown",
   "metadata": {
    "id": "zj5iOwkBeYNw"
   },
   "source": [
    "## Creating and training the model"
   ]
  },
  {
   "cell_type": "code",
   "execution_count": 43,
   "metadata": {
    "id": "5wH_6Ah0JNtm"
   },
   "outputs": [],
   "source": [
    "from tensorflow.keras import regularizers\n"
   ]
  },
  {
   "cell_type": "code",
   "execution_count": 104,
   "metadata": {
    "id": "l_BYqm7hhqJU"
   },
   "outputs": [],
   "source": [
    "def create_model():\n",
    "    \"\"\" Creates an custom Made LSTM model\n",
    "    Input:\n",
    "    ------  None\n",
    "\n",
    "    Output:\n",
    "    ------\n",
    "          (tensorflow.python.keras.engine.sequential.Sequential)\n",
    "                 a compiled model.\n",
    "    \"\"\"\n",
    "\n",
    "    ########## Creating the model ############################################\n",
    "    # creating a new instance of Sequential\n",
    "    model = Sequential()\n",
    "\n",
    "    model.add(Embedding(no_of_char+1, 180, input_length=max_name_length))\n",
    "    model.add(Bidirectional(GRU(260,\n",
    "                                return_sequences=True,\n",
    "                                activity_regularizer=regularizers.l2(1e-2))))\n",
    "    model.add(Dropout(0.3))\n",
    "\n",
    "    model.add(Bidirectional(LSTM(180,return_sequences=True)))\n",
    "\n",
    "    model.add(Dropout(0.4))\n",
    "\n",
    "    # model.add(Dense(50,\n",
    "    #                 activation='relu'))\n",
    "    model.add(Bidirectional(LSTM(90,return_sequences=True)))\n",
    "\n",
    "    model.add(Dropout(0.4))\n",
    "\n",
    "    model.add(Bidirectional(LSTM(40)))\n",
    "\n",
    "    model.add(Dropout(0.4))\n",
    "\n",
    "    model.add(Dense(18, activation='softmax'))\n",
    "\n",
    "    ########## End Creaction ############################################\n",
    "\n",
    "    # Compiling the model\n",
    "\n",
    "    # specifying an optimizer\n",
    "    optimizer = Nadam(learning_rate=0.001,\n",
    "                      beta_1 = 0.75,\n",
    "                      beta_2 = 0.8)\n",
    "    \n",
    "    # compiling\n",
    "    model.compile(loss='categorical_crossentropy',\n",
    "                  optimizer=optimizer,\n",
    "                  metrics=['accuracy'])\n",
    "    \n",
    "    return model\n"
   ]
  },
  {
   "cell_type": "code",
   "execution_count": 105,
   "metadata": {
    "id": "zydYrMt2rkBO"
   },
   "outputs": [],
   "source": [
    "# defining a learning rate scheduler function\n",
    "# we will also use this for the other times of model\n",
    "def scheduler(epoch, lr):\n",
    "    \"\"\" Learning rate scheduler\n",
    "    INPUT:\n",
    "    ------         \n",
    "          epochs (int): current number of epoch.\n",
    "\n",
    "          lr (float): initial learning rate\n",
    "    \n",
    "    OUTPUT:\n",
    "    -------\n",
    "          (float) learning rate for the corresponding epoch\n",
    "    \"\"\"\n",
    "\n",
    "    if epoch < 11: \n",
    "        return lr\n",
    "    else:\n",
    "        return lr * tf.math.exp(0.5*(10-epoch))"
   ]
  },
  {
   "cell_type": "code",
   "execution_count": 106,
   "metadata": {
    "colab": {
     "base_uri": "https://localhost:8080/"
    },
    "id": "F1ldcdnBi2cO",
    "outputId": "20a448ab-4637-44bc-dcaa-6c13bbd4a8ab"
   },
   "outputs": [
    {
     "name": "stdout",
     "output_type": "stream",
     "text": [
      "Epoch 1/100\n",
      "454/454 - 28s - loss: 1.4756 - accuracy: 0.5902 - val_loss: 1.2161 - val_accuracy: 0.6535\n",
      "Epoch 2/100\n",
      "454/454 - 11s - loss: 1.1794 - accuracy: 0.6757 - val_loss: 1.1008 - val_accuracy: 0.6848\n",
      "Epoch 3/100\n",
      "454/454 - 11s - loss: 1.0827 - accuracy: 0.7048 - val_loss: 1.0156 - val_accuracy: 0.7109\n",
      "Epoch 4/100\n",
      "454/454 - 11s - loss: 1.0093 - accuracy: 0.7220 - val_loss: 0.9416 - val_accuracy: 0.7473\n",
      "Epoch 5/100\n",
      "454/454 - 11s - loss: 0.9467 - accuracy: 0.7458 - val_loss: 0.8916 - val_accuracy: 0.7539\n",
      "Epoch 6/100\n",
      "454/454 - 11s - loss: 0.8943 - accuracy: 0.7574 - val_loss: 0.8840 - val_accuracy: 0.7578\n",
      "Epoch 7/100\n",
      "454/454 - 11s - loss: 0.8630 - accuracy: 0.7675 - val_loss: 0.8674 - val_accuracy: 0.7641\n",
      "Epoch 8/100\n",
      "454/454 - 11s - loss: 0.8158 - accuracy: 0.7800 - val_loss: 0.8086 - val_accuracy: 0.7836\n",
      "Epoch 9/100\n",
      "454/454 - 11s - loss: 0.7862 - accuracy: 0.7922 - val_loss: 0.8218 - val_accuracy: 0.7816\n",
      "Epoch 10/100\n",
      "454/454 - 11s - loss: 0.7596 - accuracy: 0.7935 - val_loss: 0.7354 - val_accuracy: 0.8020\n",
      "Epoch 11/100\n",
      "454/454 - 11s - loss: 0.7255 - accuracy: 0.8046 - val_loss: 0.7505 - val_accuracy: 0.7949\n",
      "Epoch 12/100\n",
      "454/454 - 11s - loss: 0.6527 - accuracy: 0.8246 - val_loss: 0.6766 - val_accuracy: 0.8203\n",
      "Epoch 13/100\n",
      "454/454 - 11s - loss: 0.5910 - accuracy: 0.8382 - val_loss: 0.6769 - val_accuracy: 0.8191\n",
      "Epoch 14/100\n",
      "454/454 - 11s - loss: 0.5518 - accuracy: 0.8481 - val_loss: 0.6796 - val_accuracy: 0.8199\n",
      "Epoch 15/100\n",
      "454/454 - 11s - loss: 0.5281 - accuracy: 0.8554 - val_loss: 0.6491 - val_accuracy: 0.8250\n",
      "Epoch 16/100\n",
      "454/454 - 11s - loss: 0.5106 - accuracy: 0.8588 - val_loss: 0.6518 - val_accuracy: 0.8277\n",
      "Epoch 17/100\n",
      "454/454 - 11s - loss: 0.4960 - accuracy: 0.8617 - val_loss: 0.6439 - val_accuracy: 0.8313\n",
      "Epoch 18/100\n",
      "454/454 - 11s - loss: 0.4951 - accuracy: 0.8631 - val_loss: 0.6471 - val_accuracy: 0.8309\n",
      "Epoch 19/100\n",
      "454/454 - 11s - loss: 0.4910 - accuracy: 0.8637 - val_loss: 0.6501 - val_accuracy: 0.8309\n",
      "Epoch 20/100\n",
      "454/454 - 11s - loss: 0.4845 - accuracy: 0.8664 - val_loss: 0.6466 - val_accuracy: 0.8316\n",
      "Epoch 21/100\n",
      "454/454 - 11s - loss: 0.4830 - accuracy: 0.8670 - val_loss: 0.6448 - val_accuracy: 0.8320\n",
      "Epoch 22/100\n",
      "454/454 - 11s - loss: 0.4845 - accuracy: 0.8645 - val_loss: 0.6453 - val_accuracy: 0.8324\n",
      "Epoch 23/100\n",
      "454/454 - 11s - loss: 0.4810 - accuracy: 0.8656 - val_loss: 0.6464 - val_accuracy: 0.8316\n",
      "Epoch 24/100\n",
      "454/454 - 11s - loss: 0.4870 - accuracy: 0.8665 - val_loss: 0.6464 - val_accuracy: 0.8316\n",
      "Epoch 25/100\n",
      "454/454 - 11s - loss: 0.4871 - accuracy: 0.8633 - val_loss: 0.6464 - val_accuracy: 0.8320\n",
      "CPU times: user 7min 34s, sys: 2min 48s, total: 10min 23s\n",
      "Wall time: 5min 1s\n"
     ]
    }
   ],
   "source": [
    "%%time\n",
    "\n",
    "K.clear_session()\n",
    "\n",
    "# setting seed for random in order to get reproducible results\n",
    "tf.random.set_seed(1)\n",
    "np.random.seed(1)\n",
    "\n",
    "# we are using early stopping callback to prevent the model from\n",
    "# training for more epochs than needed, it will save time and resources.\n",
    "early_stop = tf.keras.callbacks.EarlyStopping(monitor='val_accuracy',\n",
    "                                              patience=3)\n",
    "\n",
    "# learning rate scheduler\n",
    "lambda_scheduler = lambda _ : scheduler( _ , 0.001)\n",
    "lr_sched = LearningRateScheduler(lambda_scheduler)\n",
    "\n",
    "# creating the compiled model\n",
    "model = create_model()\n",
    "\n",
    "# training the model\n",
    "history = model.fit(X_train,\n",
    "                    y_train,\n",
    "                    batch_size=32,\n",
    "                    epochs=100,\n",
    "                    validation_data=(X_val, y_val),\n",
    "                    callbacks=[lr_sched, early_stop],\n",
    "                    verbose=2)\n"
   ]
  },
  {
   "cell_type": "code",
   "execution_count": 107,
   "metadata": {
    "colab": {
     "base_uri": "https://localhost:8080/"
    },
    "id": "dEpW3U-j-oH5",
    "outputId": "30ac18a2-9c76-40ba-b28a-6de7654a04ab"
   },
   "outputs": [
    {
     "name": "stdout",
     "output_type": "stream",
     "text": [
      "Model: \"sequential\"\n",
      "_________________________________________________________________\n",
      "Layer (type)                 Output Shape              Param #   \n",
      "=================================================================\n",
      "embedding (Embedding)        (None, 20, 180)           10620     \n",
      "_________________________________________________________________\n",
      "bidirectional (Bidirectional (None, 20, 520)           689520    \n",
      "_________________________________________________________________\n",
      "dropout (Dropout)            (None, 20, 520)           0         \n",
      "_________________________________________________________________\n",
      "bidirectional_1 (Bidirection (None, 20, 360)           1009440   \n",
      "_________________________________________________________________\n",
      "dropout_1 (Dropout)          (None, 20, 360)           0         \n",
      "_________________________________________________________________\n",
      "bidirectional_2 (Bidirection (None, 20, 180)           324720    \n",
      "_________________________________________________________________\n",
      "dropout_2 (Dropout)          (None, 20, 180)           0         \n",
      "_________________________________________________________________\n",
      "bidirectional_3 (Bidirection (None, 80)                70720     \n",
      "_________________________________________________________________\n",
      "dropout_3 (Dropout)          (None, 80)                0         \n",
      "_________________________________________________________________\n",
      "dense (Dense)                (None, 18)                1458      \n",
      "=================================================================\n",
      "Total params: 2,106,478\n",
      "Trainable params: 2,106,478\n",
      "Non-trainable params: 0\n",
      "_________________________________________________________________\n",
      "None\n"
     ]
    }
   ],
   "source": [
    "# printing a summary of the model\n",
    "print(model.summary())"
   ]
  },
  {
   "cell_type": "code",
   "execution_count": 108,
   "metadata": {
    "colab": {
     "base_uri": "https://localhost:8080/",
     "height": 520
    },
    "id": "3AayxGtoum-b",
    "outputId": "f267a9dd-b3a0-40ea-976e-ff19d50ba05e"
   },
   "outputs": [
    {
     "data": {
      "image/png": "[encoded data removed]",
      "text/plain": [
       "<Figure size 1440x576 with 2 Axes>"
      ]
     },
     "metadata": {
      "needs_background": "light",
      "tags": []
     },
     "output_type": "display_data"
    }
   ],
   "source": [
    "# plotting the train vs validation loss and accuracy\n",
    "plot_train_val_curves(history)"
   ]
  },
  {
   "cell_type": "markdown",
   "metadata": {
    "id": "v2pq5OBgegfv"
   },
   "source": [
    "## Evaluating on Unseen data (Test data)"
   ]
  },
  {
   "cell_type": "code",
   "execution_count": 109,
   "metadata": {
    "id": "-gYU_q0b0W88"
   },
   "outputs": [],
   "source": [
    "# Colorful outputs\n",
    "class bcolors:\n",
    "    RED       = '\\033[91m'\n",
    "    OKBLUE    = '\\033[94m'\n",
    "    GREEN = '\\033[32m'\n",
    "    BOLD      = '\\033[1m'\n",
    "    UNDERLINE = '\\033[4m'\n",
    "    ENDC      = '\\033[0m'"
   ]
  },
  {
   "cell_type": "code",
   "execution_count": 110,
   "metadata": {
    "id": "MZi6Ic_WFFFh"
   },
   "outputs": [],
   "source": [
    "# importing multiple evaluation functions from scikit learn\n",
    "from sklearn.metrics import accuracy_score, classification_report"
   ]
  },
  {
   "cell_type": "code",
   "execution_count": 111,
   "metadata": {
    "colab": {
     "base_uri": "https://localhost:8080/"
    },
    "id": "JMbUKyNDeuG2",
    "outputId": "8d8b39d1-1878-4adf-f77f-02565140a5a8"
   },
   "outputs": [
    {
     "name": "stdout",
     "output_type": "stream",
     "text": [
      "95/95 [==============================] - 3s 9ms/step - loss: 0.6384 - accuracy: 0.8267\n",
      "Test loss:  0.6384338736534119\n",
      "Test Accuracy:  0.8266932368278503\n"
     ]
    }
   ],
   "source": [
    "test_result = model.evaluate(X_test, y_test)\n",
    "print(\"Test loss: \", test_result[0])\n",
    "print(\"Test Accuracy: \", test_result[1])"
   ]
  },
  {
   "cell_type": "code",
   "execution_count": 112,
   "metadata": {
    "colab": {
     "base_uri": "https://localhost:8080/"
    },
    "id": "Hfnws1xEeuVP",
    "outputId": "1b742aa8-b382-4aeb-d515-9077345a24c4"
   },
   "outputs": [
    {
     "data": {
      "text/plain": [
       "(array([14, 14,  4, ...,  4, 14,  4]), array([14, 14,  4, ...,  4, 14,  4]))"
      ]
     },
     "execution_count": 112,
     "metadata": {
      "tags": []
     },
     "output_type": "execute_result"
    }
   ],
   "source": [
    "# predicting the classes corresponding to the test features\n",
    "y_pred = model.predict(X_test)\n",
    "\n",
    "# converting the hot encoded values into single digit class label\n",
    "pred_labels = np.argmax(y_pred, axis=1) \n",
    "y_test_label = np.argmax(y_test, axis=1)\n",
    "pred_labels, y_test_label"
   ]
  },
  {
   "cell_type": "code",
   "execution_count": 113,
   "metadata": {
    "colab": {
     "base_uri": "https://localhost:8080/"
    },
    "id": "-q301c9U8t5_",
    "outputId": "2ca7344b-c802-430f-8efe-4cf051a9cec8"
   },
   "outputs": [
    {
     "name": "stdout",
     "output_type": "stream",
     "text": [
      "\u001b[1m\u001b[94m\n",
      "DETAILED TEST SUMMARY:\u001b[0m\u001b[0m\n",
      "\u001b[1m\u001b[32m\n",
      " Test Accuracy: \u001b[0m\u001b[0m 0.8266932270916335\n",
      "\u001b[1m\u001b[32m\n",
      " Classification Report: \n",
      " \u001b[0m\u001b[0m               precision    recall  f1-score   support\n",
      "\n",
      "      Arabic       0.95      1.00      0.97       300\n",
      "     Chinese       0.48      0.80      0.60        40\n",
      "       Czech       0.55      0.40      0.46        78\n",
      "       Dutch       0.56      0.33      0.42        45\n",
      "     English       0.72      0.85      0.78       550\n",
      "      French       0.46      0.15      0.22        41\n",
      "      German       0.49      0.47      0.48       109\n",
      "       Greek       0.77      0.67      0.71        30\n",
      "       Irish       0.63      0.34      0.44        35\n",
      "     Italian       0.68      0.75      0.71       106\n",
      "    Japanese       0.86      0.87      0.87       149\n",
      "      Korean       0.00      0.00      0.00        14\n",
      "      Polish       0.69      0.43      0.53        21\n",
      "  Portuguese       0.00      0.00      0.00        11\n",
      "     Russian       0.94      0.93      0.94      1412\n",
      "    Scottish       0.00      0.00      0.00        15\n",
      "     Spanish       0.47      0.36      0.41        45\n",
      "  Vietnamese       0.00      0.00      0.00        11\n",
      "\n",
      "    accuracy                           0.83      3012\n",
      "   macro avg       0.51      0.46      0.47      3012\n",
      "weighted avg       0.81      0.83      0.81      3012\n",
      "\n"
     ]
    }
   ],
   "source": [
    "print(bcolors.BOLD + bcolors.OKBLUE +\\\n",
    "      \"\\nDETAILED TEST SUMMARY:\"\\\n",
    "      + bcolors.ENDC + bcolors.ENDC)\n",
    "\n",
    "# Printing test scores and report\n",
    "print(bcolors.BOLD + bcolors.GREEN +\\\n",
    "      '\\n Test Accuracy: ' + bcolors.ENDC + bcolors.ENDC,\n",
    "      accuracy_score(y_test_label, pred_labels))\n",
    "\n",
    "print(bcolors.BOLD + bcolors.GREEN +\\\n",
    "      '\\n Classification Report: \\n ' + bcolors.ENDC + bcolors.ENDC,\n",
    "      classification_report(y_test_label,\n",
    "                            pred_labels,\n",
    "                            target_names=label_encoder.classes_,\n",
    "                            zero_division=0))"
   ]
  },
  {
   "cell_type": "markdown",
   "metadata": {
    "id": "6RdPWgbAMDq6"
   },
   "source": [
    "###**Comments**\n",
    "+ The model can predict some laguages more than others.\n",
    "+ There are some languages the model cannot predict, this is probably due to lack of data / names from these laguages in our training set.\n",
    "+ English names and Russian names are predominant in the samples so they are the 2 languages having the heighest precision and recall."
   ]
  },
  {
   "cell_type": "markdown",
   "metadata": {
    "id": "1shpV-Ieevbz"
   },
   "source": [
    "# Origin prediction function for end user"
   ]
  },
  {
   "cell_type": "code",
   "execution_count": 114,
   "metadata": {
    "id": "BWnm8nvuFgTF"
   },
   "outputs": [],
   "source": [
    "# defining a function which predict the origin \n",
    "# of a name given by the user as input\n",
    "def predict_origin(name):\n",
    "    \"\"\"Function returning the predicted origin of a name (the input)\n",
    "    \n",
    "    Input:\n",
    "    ------\n",
    "           name (str): a name.\n",
    "    \n",
    "    Output:\n",
    "    ------\n",
    "           (str): the language of origin of the name from the input.\n",
    "    \"\"\"\n",
    "\n",
    "    # check if the input is indead a string\n",
    "    assert isinstance(name, str)\n",
    "\n",
    "    # converting the name string into list of numbers\n",
    "    input_seq = input_tokenizer.texts_to_sequences([name])\n",
    "\n",
    "    # padding the list (making it the same lengeth as the longest word,\n",
    "    # adding zero for the remaining spots) then converting the result\n",
    "    # to numpy array\n",
    "    input_seq = np.array(pad_sequences(input_seq,\n",
    "                                    maxlen=max_name_length,\n",
    "                                    padding='pre'))\n",
    "    \n",
    "    # predicting using the model we have created\n",
    "    # the result will be a 1D array of probability values\n",
    "    y_pred = model.predict(input_seq)\n",
    "\n",
    "    # getting the numerical label for the prediction\n",
    "    # that is the index for the max probability\n",
    "    the_origin = np.argmax(y_pred)\n",
    "\n",
    "    # converting the numerical label to string (language name).\n",
    "    the_origin = label_encoder.inverse_transform([the_origin])\n",
    "\n",
    "    # the_origin is an array of 1 element so we just return\n",
    "    # element\n",
    "    return the_origin[0]"
   ]
  },
  {
   "cell_type": "code",
   "execution_count": 146,
   "metadata": {
    "colab": {
     "base_uri": "https://localhost:8080/"
    },
    "id": "qOtYEhWoK3iD",
    "outputId": "dbcd2ebd-4596-4ba8-e556-5a7a43e0e5f6"
   },
   "outputs": [
    {
     "name": "stdout",
     "output_type": "stream",
     "text": [
      "\n",
      " Pierre: English\n",
      "\n",
      " Poporski: Polish\n",
      "\n",
      " Vu: Chinese\n",
      "\n",
      " Vladimir: Russian\n"
     ]
    }
   ],
   "source": [
    "# predicting some name origin using the above function\n",
    "names_list = [\"Pierre\", \"Poporski\", \"Vu\", \"Vladimir\"]\n",
    "\n",
    "for name in names_list:\n",
    "    print(\"\\n\", name+':',\n",
    "          predict_origin(name))"
   ]
  },
  {
   "cell_type": "markdown",
   "metadata": {
    "id": "PawbEILV8JCr"
   },
   "source": [
    "**Comment**\n",
    "+ The `predict_origin` function was not able to recognize that 'Vu' is a Vietnamese name and 'Pierre' as a French name.<br>\n",
    "We are going to create a new function which outputs 3 probable origins instead of just 1 possible origin."
   ]
  },
  {
   "cell_type": "code",
   "execution_count": 117,
   "metadata": {
    "id": "MkTADDTHTszy"
   },
   "outputs": [],
   "source": [
    "# defining a function which output 3 possible origins\n",
    "# for a name given as input\n",
    "def predict_possible_origins(name):\n",
    "    \"\"\"Function returning the top 3 predicted possible origins\n",
    "       of a name (the input) in decreasing order of probability.\n",
    "    \n",
    "    Input:\n",
    "    ------\n",
    "           name (str): a name.\n",
    "    \n",
    "    Output:\n",
    "    ------\n",
    "           numpy.array: an array consisting of the top 3 most\n",
    "                  (predicted ) possible origins of the name in decreasing\n",
    "                  order of probability.\n",
    "    \"\"\"\n",
    "\n",
    "    # check if the input is indead a string\n",
    "    assert isinstance(name, str)\n",
    "\n",
    "    # converting the name string into list of numbers\n",
    "    input_seq = input_tokenizer.texts_to_sequences([name])\n",
    "\n",
    "    # padding the list (making it the same lengeth as the longest word,\n",
    "    # adding zero for the remaining spots) then converting the result\n",
    "    # to numpy array\n",
    "    input_seq = np.array(pad_sequences(input_seq,\n",
    "                                    maxlen=max_name_length,\n",
    "                                    padding='pre'))\n",
    "    \n",
    "    # predicting using the model we have created\n",
    "    # the result will be a 1D array of probability values\n",
    "    y_pred = model.predict(input_seq)[0]\n",
    "    y_pred = y_pred.reshape(-1,)\n",
    "\n",
    "    # getting the numerical label for the prediction\n",
    "    # that is the index for the top 3 max probability\n",
    "    top3_origins = y_pred.argsort()[-3:]\n",
    "\n",
    "    # .argsort() list the indices of smallest element first etc...\n",
    "    # so we need to reverse the order for it to be in decreasing\n",
    "    # order of probability\n",
    "    top3_origins = top3_origins[::-1]\n",
    "\n",
    "    # converting the numerical label to string (language name).\n",
    "    top3_origins = label_encoder.inverse_transform(top3_origins)\n",
    "\n",
    "    # the_origin is an array of 1 element so we just return\n",
    "    # element\n",
    "    return top3_origins"
   ]
  },
  {
   "cell_type": "code",
   "execution_count": 147,
   "metadata": {
    "colab": {
     "base_uri": "https://localhost:8080/"
    },
    "id": "Mh2ErxXdV_2U",
    "outputId": "f7634c5d-5edd-4a95-e837-4f75772acc55"
   },
   "outputs": [
    {
     "name": "stdout",
     "output_type": "stream",
     "text": [
      "\n",
      " Pierre: ['English' 'French' 'German']\n",
      "\n",
      " Poporski: ['Polish' 'Czech' 'Russian']\n",
      "\n",
      " Vu: ['Chinese' 'Korean' 'Vietnamese']\n",
      "\n",
      " Mustafa: ['Arabic' 'English' 'Japanese']\n",
      "\n",
      " Vladimir: ['Russian' 'Czech' 'English']\n"
     ]
    }
   ],
   "source": [
    "# predicting some name origin using the above function\n",
    "names_list = [\"Pierre\", \"Poporski\", \"Vu\", \"Mustafa\", \"Vladimir\"]\n",
    "\n",
    "for name in names_list:\n",
    "    print(\"\\n\", name+':',\n",
    "          predict_possible_origins(name))"
   ]
  },
  {
   "cell_type": "code",
   "execution_count": 121,
   "metadata": {
    "id": "OT55i1YogPcH"
   },
   "outputs": [],
   "source": []
  },
  {
   "cell_type": "markdown",
   "metadata": {
    "id": "Govd1lwa9zyH"
   },
   "source": [
    "**Creating interactive versions**\n"
   ]
  },
  {
   "cell_type": "code",
   "execution_count": 122,
   "metadata": {
    "id": "oINu0GrHEMsp"
   },
   "outputs": [],
   "source": [
    "def query_name_origin():\n",
    "    \"\"\"This function asks the user to input a name then print the possible\n",
    "    origin of the name.\n",
    "    \"\"\"\n",
    "\n",
    "    # taking the name from the user\n",
    "    name = input(\"Please enter a name:\\t\")\n",
    "\n",
    "    # predicting the origin\n",
    "    origin = predict_origin(name)\n",
    "\n",
    "    # printing the origin on the screen\n",
    "    print(\"The origin of this name is:  {}\".format(origin))"
   ]
  },
  {
   "cell_type": "code",
   "execution_count": 123,
   "metadata": {
    "colab": {
     "base_uri": "https://localhost:8080/"
    },
    "id": "iinYJohd_KZs",
    "outputId": "b4309839-e699-4e2e-834b-df3c09106524"
   },
   "outputs": [
    {
     "name": "stdout",
     "output_type": "stream",
     "text": [
      "Please enter a name:\tVu\n",
      "The origin of this name is:  Chinese\n"
     ]
    }
   ],
   "source": [
    "# testing the query_name_origin() function\n",
    "#query_name_origin()"
   ]
  },
  {
   "cell_type": "code",
   "execution_count": 124,
   "metadata": {
    "id": "thpYnGN7_Vd8"
   },
   "outputs": [],
   "source": [
    "def query_name_origin_2():\n",
    "    \"\"\"This function asks the user to input a name then print 3 possible\n",
    "    origins of the name.\n",
    "    \"\"\"\n",
    "\n",
    "    # taking the name from the user\n",
    "    name = input(\"Please enter a name:\\t\")\n",
    "\n",
    "    # predicting the 3 possible origins\n",
    "    origins = predict_possible_origins(name)\n",
    "\n",
    "    # printing the origin on the screen\n",
    "    print(\"\\nThe origin of this name is one of these:\\n\\n {}, {}, {}\".format(\n",
    "                                                                  origins[0],\n",
    "                                                                  origins[1],\n",
    "                                                                  origins[2]))"
   ]
  },
  {
   "cell_type": "code",
   "execution_count": 125,
   "metadata": {
    "colab": {
     "base_uri": "https://localhost:8080/"
    },
    "id": "TtP7Wct7_reA",
    "outputId": "8f1b33a7-f87a-46b2-979b-13cc4210ca1d"
   },
   "outputs": [
    {
     "name": "stdout",
     "output_type": "stream",
     "text": [
      "Please enter a name:\tVu\n",
      "\n",
      "The origin of this name is one of these:\n",
      "\n",
      " Chinese, Korean, Vietnamese\n"
     ]
    }
   ],
   "source": [
    "#query_name_origin_2()"
   ]
  },
  {
   "cell_type": "code",
   "execution_count": 125,
   "metadata": {
    "id": "mpi9x9DLBKh_"
   },
   "outputs": [],
   "source": []
  }
 ],
 "metadata": {
  "accelerator": "GPU",
  "colab": {
   "collapsed_sections": [],
   "machine_shape": "hm",
   "name": "Homework M6.ipynb",
   "provenance": []
  },
  "kernelspec": {
   "display_name": "Python 3",
   "language": "python",
   "name": "python3"
  },
  "language_info": {
   "codemirror_mode": {
    "name": "ipython",
    "version": 3
   },
   "file_extension": ".py",
   "mimetype": "text/x-python",
   "name": "python",
   "nbconvert_exporter": "python",
   "pygments_lexer": "ipython3",
   "version": "3.7.4"
  }
 },
 "nbformat": 4,
 "nbformat_minor": 4
}
